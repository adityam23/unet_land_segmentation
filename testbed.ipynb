{
 "cells": [
  {
   "cell_type": "code",
   "execution_count": 1,
   "metadata": {},
   "outputs": [
    {
     "name": "stdout",
     "output_type": "stream",
     "text": [
      "-----------------------------------------\n",
      "keras-unet init: TF version is >= 2.0.0 - using `tf.keras` instead of `Keras`\n",
      "-----------------------------------------\n"
     ]
    }
   ],
   "source": [
    "import keras\n",
    "from keras_unet.models import custom_unet"
   ]
  },
  {
   "cell_type": "code",
   "execution_count": 2,
   "metadata": {},
   "outputs": [
    {
     "name": "stdout",
     "output_type": "stream",
     "text": [
      "Num GPUs Available:  0\n"
     ]
    }
   ],
   "source": [
    "import tensorflow as tf\n",
    "print(\"Num GPUs Available: \", len(tf.config.list_physical_devices('GPU')))"
   ]
  },
  {
   "cell_type": "code",
   "execution_count": 3,
   "metadata": {},
   "outputs": [],
   "source": [
    "import numpy as np\n",
    "import matplotlib.pyplot as plt\n",
    "%matplotlib inline\n",
    "import glob\n",
    "import os\n",
    "import sys\n",
    "from PIL import Image"
   ]
  },
  {
   "cell_type": "code",
   "execution_count": 4,
   "metadata": {},
   "outputs": [],
   "source": [
    "orig = glob.glob(\"data/imgs/*.png\")\n",
    "masks = glob.glob(\"data/masks/*.png\")"
   ]
  },
  {
   "cell_type": "code",
   "execution_count": 5,
   "metadata": {},
   "outputs": [],
   "source": [
    "imgs_list = []\n",
    "masks_list = []\n",
    "for image, mask in zip(orig, masks):\n",
    "    imgs_list.append(np.array(Image.open(image).resize((512,512))))\n",
    "    \n",
    "    im = Image.open(mask).resize((512,512))\n",
    "    masks_list.append(np.array(im))\n",
    "\n",
    "imgs_np = np.asarray(imgs_list)\n",
    "masks_np = np.asarray(masks_list)"
   ]
  },
  {
   "cell_type": "code",
   "execution_count": 6,
   "metadata": {},
   "outputs": [
    {
     "name": "stdout",
     "output_type": "stream",
     "text": [
      "255 8\n"
     ]
    }
   ],
   "source": [
    "print(imgs_np.max(), masks_np.max())"
   ]
  },
  {
   "cell_type": "code",
   "execution_count": 7,
   "metadata": {},
   "outputs": [],
   "source": [
    "x = np.asarray(imgs_np, dtype=np.float32)/255\n",
    "y = np.asarray(masks_np, dtype=np.float32)/255"
   ]
  },
  {
   "cell_type": "code",
   "execution_count": 8,
   "metadata": {},
   "outputs": [
    {
     "name": "stdout",
     "output_type": "stream",
     "text": [
      "1.0 0.03137255\n"
     ]
    }
   ],
   "source": [
    "print(x.max(), y.max())"
   ]
  },
  {
   "cell_type": "code",
   "execution_count": 9,
   "metadata": {},
   "outputs": [
    {
     "name": "stdout",
     "output_type": "stream",
     "text": [
      "(1366, 512, 512, 3) (1366, 512, 512)\n"
     ]
    }
   ],
   "source": [
    "print(x.shape, y.shape)"
   ]
  },
  {
   "cell_type": "code",
   "execution_count": 10,
   "metadata": {},
   "outputs": [
    {
     "name": "stdout",
     "output_type": "stream",
     "text": [
      "(1366, 512, 512, 3) (1366, 512, 512)\n"
     ]
    }
   ],
   "source": [
    "x = x.reshape(x.shape[0], x.shape[1], x.shape[2], 3)\n",
    "print(x.shape, y.shape)"
   ]
  },
  {
   "cell_type": "code",
   "execution_count": 11,
   "metadata": {},
   "outputs": [],
   "source": [
    "model = custom_unet(\n",
    "    input_shape=(512, 512, 3),\n",
    "    use_batch_norm=True,\n",
    "    num_classes=8,\n",
    "    filters=64,\n",
    "    dropout=0.2,\n",
    "    output_activation='sigmoid')"
   ]
  },
  {
   "cell_type": "code",
   "execution_count": 12,
   "metadata": {},
   "outputs": [
    {
     "name": "stdout",
     "output_type": "stream",
     "text": [
      "x_train:  (956, 512, 512, 3)\n",
      "y_train:  (956, 512, 512)\n",
      "x_val:  (410, 512, 512, 3)\n",
      "y_val:  (410, 512, 512)\n"
     ]
    }
   ],
   "source": [
    "from sklearn.model_selection import train_test_split\n",
    "\n",
    "x_train, x_val, y_train, y_val = train_test_split(x, y, test_size=0.3, random_state=42)\n",
    "\n",
    "print(\"x_train: \", x_train.shape)\n",
    "print(\"y_train: \", y_train.shape)\n",
    "print(\"x_val: \", x_val.shape)\n",
    "print(\"y_val: \", y_val.shape)"
   ]
  },
  {
   "cell_type": "code",
   "execution_count": 13,
   "metadata": {},
   "outputs": [],
   "source": [
    "# from keras_unet.utils import get_augmented\n",
    "\n",
    "# train_gen = get_augmented(\n",
    "#     x_train, y_train, batch_size=4,\n",
    "#     data_gen_args = dict(\n",
    "#         rotation_range=15.,\n",
    "#         width_shift_range=0.05,\n",
    "#         height_shift_range=0.05,\n",
    "#         shear_range=50,\n",
    "#         zoom_range=0.2,\n",
    "#         horizontal_flip=True,\n",
    "#         vertical_flip=True,\n",
    "#         fill_mode='constant'\n",
    "#     ))"
   ]
  },
  {
   "cell_type": "code",
   "execution_count": 14,
   "metadata": {},
   "outputs": [],
   "source": [
    "# sample_batch = next(train_gen)\n",
    "# xx, yy = sample_batch\n",
    "# print(xx.shape, yy.shape)"
   ]
  },
  {
   "cell_type": "code",
   "execution_count": 15,
   "metadata": {},
   "outputs": [],
   "source": [
    "from keras.callbacks import ModelCheckpoint\n",
    "\n",
    "\n",
    "model_filename = 'segm_model_v0.keras'\n",
    "callback_checkpoint = ModelCheckpoint(\n",
    "    model_filename, \n",
    "    verbose=1, \n",
    "    monitor='val_loss', \n",
    "    save_best_only=True,\n",
    ")"
   ]
  },
  {
   "cell_type": "code",
   "execution_count": 16,
   "metadata": {},
   "outputs": [],
   "source": [
    "from keras.optimizers import Adam, SGD\n",
    "from keras_unet.metrics import iou, iou_thresholded\n",
    "from keras_unet.losses import jaccard_distance"
   ]
  },
  {
   "cell_type": "code",
   "execution_count": 17,
   "metadata": {},
   "outputs": [],
   "source": [
    "model.compile(\n",
    "    optimizer=Adam(), \n",
    "    #optimizer=SGD(lr=0.01, momentum=0.99),\n",
    "    loss=['sparse_categorical_crossentropy'],\n",
    "    #loss=jaccard_distance,\n",
    "    metrics=[iou, iou_thresholded]\n",
    ")"
   ]
  },
  {
   "cell_type": "code",
   "execution_count": 18,
   "metadata": {},
   "outputs": [
    {
     "name": "stdout",
     "output_type": "stream",
     "text": [
      "Epoch 1/5\n"
     ]
    },
    {
     "ename": "InvalidArgumentError",
     "evalue": "Graph execution error:\n\nDetected at node mul defined at (most recent call last):\n  File \"C:\\Users\\Aditya\\miniconda3\\lib\\runpy.py\", line 196, in _run_module_as_main\n\n  File \"C:\\Users\\Aditya\\miniconda3\\lib\\runpy.py\", line 86, in _run_code\n\n  File \"c:\\Users\\adity\\Desktop\\Deep Forest\\keras-unet\\env\\lib\\site-packages\\ipykernel_launcher.py\", line 18, in <module>\n\n  File \"c:\\Users\\adity\\Desktop\\Deep Forest\\keras-unet\\env\\lib\\site-packages\\traitlets\\config\\application.py\", line 1075, in launch_instance\n\n  File \"c:\\Users\\adity\\Desktop\\Deep Forest\\keras-unet\\env\\lib\\site-packages\\ipykernel\\kernelapp.py\", line 739, in start\n\n  File \"c:\\Users\\adity\\Desktop\\Deep Forest\\keras-unet\\env\\lib\\site-packages\\tornado\\platform\\asyncio.py\", line 205, in start\n\n  File \"C:\\Users\\Aditya\\miniconda3\\lib\\asyncio\\base_events.py\", line 603, in run_forever\n\n  File \"C:\\Users\\Aditya\\miniconda3\\lib\\asyncio\\base_events.py\", line 1909, in _run_once\n\n  File \"C:\\Users\\Aditya\\miniconda3\\lib\\asyncio\\events.py\", line 80, in _run\n\n  File \"c:\\Users\\adity\\Desktop\\Deep Forest\\keras-unet\\env\\lib\\site-packages\\ipykernel\\kernelbase.py\", line 545, in dispatch_queue\n\n  File \"c:\\Users\\adity\\Desktop\\Deep Forest\\keras-unet\\env\\lib\\site-packages\\ipykernel\\kernelbase.py\", line 534, in process_one\n\n  File \"c:\\Users\\adity\\Desktop\\Deep Forest\\keras-unet\\env\\lib\\site-packages\\ipykernel\\kernelbase.py\", line 437, in dispatch_shell\n\n  File \"c:\\Users\\adity\\Desktop\\Deep Forest\\keras-unet\\env\\lib\\site-packages\\ipykernel\\ipkernel.py\", line 359, in execute_request\n\n  File \"c:\\Users\\adity\\Desktop\\Deep Forest\\keras-unet\\env\\lib\\site-packages\\ipykernel\\kernelbase.py\", line 778, in execute_request\n\n  File \"c:\\Users\\adity\\Desktop\\Deep Forest\\keras-unet\\env\\lib\\site-packages\\ipykernel\\ipkernel.py\", line 446, in do_execute\n\n  File \"c:\\Users\\adity\\Desktop\\Deep Forest\\keras-unet\\env\\lib\\site-packages\\ipykernel\\zmqshell.py\", line 549, in run_cell\n\n  File \"c:\\Users\\adity\\Desktop\\Deep Forest\\keras-unet\\env\\lib\\site-packages\\IPython\\core\\interactiveshell.py\", line 3075, in run_cell\n\n  File \"c:\\Users\\adity\\Desktop\\Deep Forest\\keras-unet\\env\\lib\\site-packages\\IPython\\core\\interactiveshell.py\", line 3130, in _run_cell\n\n  File \"c:\\Users\\adity\\Desktop\\Deep Forest\\keras-unet\\env\\lib\\site-packages\\IPython\\core\\async_helpers.py\", line 129, in _pseudo_sync_runner\n\n  File \"c:\\Users\\adity\\Desktop\\Deep Forest\\keras-unet\\env\\lib\\site-packages\\IPython\\core\\interactiveshell.py\", line 3334, in run_cell_async\n\n  File \"c:\\Users\\adity\\Desktop\\Deep Forest\\keras-unet\\env\\lib\\site-packages\\IPython\\core\\interactiveshell.py\", line 3517, in run_ast_nodes\n\n  File \"c:\\Users\\adity\\Desktop\\Deep Forest\\keras-unet\\env\\lib\\site-packages\\IPython\\core\\interactiveshell.py\", line 3577, in run_code\n\n  File \"C:\\Users\\Aditya\\AppData\\Local\\Temp\\ipykernel_27532\\2851065090.py\", line 1, in <module>\n\n  File \"c:\\Users\\adity\\Desktop\\Deep Forest\\keras-unet\\env\\lib\\site-packages\\keras\\src\\utils\\traceback_utils.py\", line 117, in error_handler\n\n  File \"c:\\Users\\adity\\Desktop\\Deep Forest\\keras-unet\\env\\lib\\site-packages\\keras\\src\\backend\\tensorflow\\trainer.py\", line 325, in fit\n\n  File \"c:\\Users\\adity\\Desktop\\Deep Forest\\keras-unet\\env\\lib\\site-packages\\tensorflow\\python\\util\\traceback_utils.py\", line 150, in error_handler\n\n  File \"c:\\Users\\adity\\Desktop\\Deep Forest\\keras-unet\\env\\lib\\site-packages\\tensorflow\\python\\eager\\polymorphic_function\\polymorphic_function.py\", line 833, in __call__\n\n  File \"c:\\Users\\adity\\Desktop\\Deep Forest\\keras-unet\\env\\lib\\site-packages\\tensorflow\\python\\eager\\polymorphic_function\\polymorphic_function.py\", line 889, in _call\n\n  File \"c:\\Users\\adity\\Desktop\\Deep Forest\\keras-unet\\env\\lib\\site-packages\\tensorflow\\python\\eager\\polymorphic_function\\polymorphic_function.py\", line 696, in _initialize\n\n  File \"c:\\Users\\adity\\Desktop\\Deep Forest\\keras-unet\\env\\lib\\site-packages\\tensorflow\\python\\eager\\polymorphic_function\\tracing_compilation.py\", line 178, in trace_function\n\n  File \"c:\\Users\\adity\\Desktop\\Deep Forest\\keras-unet\\env\\lib\\site-packages\\tensorflow\\python\\eager\\polymorphic_function\\tracing_compilation.py\", line 283, in _maybe_define_function\n\n  File \"c:\\Users\\adity\\Desktop\\Deep Forest\\keras-unet\\env\\lib\\site-packages\\tensorflow\\python\\eager\\polymorphic_function\\tracing_compilation.py\", line 310, in _create_concrete_function\n\n  File \"c:\\Users\\adity\\Desktop\\Deep Forest\\keras-unet\\env\\lib\\site-packages\\tensorflow\\python\\framework\\func_graph.py\", line 1059, in func_graph_from_py_func\n\n  File \"c:\\Users\\adity\\Desktop\\Deep Forest\\keras-unet\\env\\lib\\site-packages\\tensorflow\\python\\eager\\polymorphic_function\\polymorphic_function.py\", line 599, in wrapped_fn\n\n  File \"c:\\Users\\adity\\Desktop\\Deep Forest\\keras-unet\\env\\lib\\site-packages\\tensorflow\\python\\eager\\polymorphic_function\\autograph_util.py\", line 41, in autograph_handler\n\n  File \"c:\\Users\\adity\\Desktop\\Deep Forest\\keras-unet\\env\\lib\\site-packages\\tensorflow\\python\\autograph\\impl\\api.py\", line 339, in converted_call\n\n  File \"c:\\Users\\adity\\Desktop\\Deep Forest\\keras-unet\\env\\lib\\site-packages\\tensorflow\\python\\autograph\\impl\\api.py\", line 459, in _call_unconverted\n\n  File \"c:\\Users\\adity\\Desktop\\Deep Forest\\keras-unet\\env\\lib\\site-packages\\tensorflow\\python\\autograph\\impl\\api.py\", line 643, in wrapper\n\n  File \"c:\\Users\\adity\\Desktop\\Deep Forest\\keras-unet\\env\\lib\\site-packages\\keras\\src\\backend\\tensorflow\\trainer.py\", line 118, in one_step_on_iterator\n\n  File \"c:\\Users\\adity\\Desktop\\Deep Forest\\keras-unet\\env\\lib\\site-packages\\tensorflow\\python\\distribute\\distribute_lib.py\", line 1673, in run\n\n  File \"c:\\Users\\adity\\Desktop\\Deep Forest\\keras-unet\\env\\lib\\site-packages\\tensorflow\\python\\distribute\\distribute_lib.py\", line 3263, in call_for_each_replica\n\n  File \"c:\\Users\\adity\\Desktop\\Deep Forest\\keras-unet\\env\\lib\\site-packages\\tensorflow\\python\\distribute\\distribute_lib.py\", line 4061, in _call_for_each_replica\n\n  File \"c:\\Users\\adity\\Desktop\\Deep Forest\\keras-unet\\env\\lib\\site-packages\\tensorflow\\python\\util\\traceback_utils.py\", line 150, in error_handler\n\n  File \"c:\\Users\\adity\\Desktop\\Deep Forest\\keras-unet\\env\\lib\\site-packages\\tensorflow\\python\\eager\\polymorphic_function\\polymorphic_function.py\", line 833, in __call__\n\n  File \"c:\\Users\\adity\\Desktop\\Deep Forest\\keras-unet\\env\\lib\\site-packages\\tensorflow\\python\\eager\\polymorphic_function\\polymorphic_function.py\", line 906, in _call\n\n  File \"c:\\Users\\adity\\Desktop\\Deep Forest\\keras-unet\\env\\lib\\site-packages\\tensorflow\\python\\eager\\polymorphic_function\\tracing_compilation.py\", line 132, in call_function\n\n  File \"c:\\Users\\adity\\Desktop\\Deep Forest\\keras-unet\\env\\lib\\site-packages\\tensorflow\\python\\eager\\polymorphic_function\\tracing_compilation.py\", line 178, in trace_function\n\n  File \"c:\\Users\\adity\\Desktop\\Deep Forest\\keras-unet\\env\\lib\\site-packages\\tensorflow\\python\\eager\\polymorphic_function\\tracing_compilation.py\", line 283, in _maybe_define_function\n\n  File \"c:\\Users\\adity\\Desktop\\Deep Forest\\keras-unet\\env\\lib\\site-packages\\tensorflow\\python\\eager\\polymorphic_function\\tracing_compilation.py\", line 310, in _create_concrete_function\n\n  File \"c:\\Users\\adity\\Desktop\\Deep Forest\\keras-unet\\env\\lib\\site-packages\\tensorflow\\python\\framework\\func_graph.py\", line 1059, in func_graph_from_py_func\n\n  File \"c:\\Users\\adity\\Desktop\\Deep Forest\\keras-unet\\env\\lib\\site-packages\\tensorflow\\python\\eager\\polymorphic_function\\polymorphic_function.py\", line 599, in wrapped_fn\n\n  File \"c:\\Users\\adity\\Desktop\\Deep Forest\\keras-unet\\env\\lib\\site-packages\\tensorflow\\python\\eager\\polymorphic_function\\autograph_util.py\", line 41, in autograph_handler\n\n  File \"c:\\Users\\adity\\Desktop\\Deep Forest\\keras-unet\\env\\lib\\site-packages\\tensorflow\\python\\autograph\\impl\\api.py\", line 331, in converted_call\n\n  File \"c:\\Users\\adity\\Desktop\\Deep Forest\\keras-unet\\env\\lib\\site-packages\\tensorflow\\python\\autograph\\impl\\api.py\", line 459, in _call_unconverted\n\n  File \"c:\\Users\\adity\\Desktop\\Deep Forest\\keras-unet\\env\\lib\\site-packages\\tensorflow\\python\\autograph\\impl\\api.py\", line 643, in wrapper\n\n  File \"c:\\Users\\adity\\Desktop\\Deep Forest\\keras-unet\\env\\lib\\site-packages\\keras\\src\\backend\\tensorflow\\trainer.py\", line 106, in one_step_on_data\n\n  File \"c:\\Users\\adity\\Desktop\\Deep Forest\\keras-unet\\env\\lib\\site-packages\\keras\\src\\backend\\tensorflow\\trainer.py\", line 77, in train_step\n\n  File \"c:\\Users\\adity\\Desktop\\Deep Forest\\keras-unet\\env\\lib\\site-packages\\keras\\src\\trainers\\trainer.py\", line 376, in compute_metrics\n\n  File \"c:\\Users\\adity\\Desktop\\Deep Forest\\keras-unet\\env\\lib\\site-packages\\keras\\src\\trainers\\compile_utils.py\", line 330, in update_state\n\n  File \"c:\\Users\\adity\\Desktop\\Deep Forest\\keras-unet\\env\\lib\\site-packages\\keras\\src\\trainers\\compile_utils.py\", line 17, in update_state\n\n  File \"c:\\Users\\adity\\Desktop\\Deep Forest\\keras-unet\\env\\lib\\site-packages\\keras\\src\\metrics\\reduction_metrics.py\", line 199, in update_state\n\n  File \"c:\\Users\\adity\\Desktop\\Deep Forest\\keras-unet\\env\\lib\\site-packages\\keras_unet\\metrics.py\", line 13, in iou\n\n  File \"c:\\Users\\adity\\Desktop\\Deep Forest\\keras-unet\\env\\lib\\site-packages\\tensorflow\\python\\util\\traceback_utils.py\", line 150, in error_handler\n\n  File \"c:\\Users\\adity\\Desktop\\Deep Forest\\keras-unet\\env\\lib\\site-packages\\tensorflow\\python\\framework\\override_binary_operator.py\", line 113, in binary_op_wrapper\n\n  File \"c:\\Users\\adity\\Desktop\\Deep Forest\\keras-unet\\env\\lib\\site-packages\\tensorflow\\python\\ops\\tensor_math_operator_overrides.py\", line 64, in _mul_dispatch_factory\n\n  File \"c:\\Users\\adity\\Desktop\\Deep Forest\\keras-unet\\env\\lib\\site-packages\\tensorflow\\python\\ops\\math_ops.py\", line 1705, in _mul_dispatch\n\n  File \"c:\\Users\\adity\\Desktop\\Deep Forest\\keras-unet\\env\\lib\\site-packages\\tensorflow\\python\\ops\\weak_tensor_ops.py\", line 142, in wrapper\n\n  File \"c:\\Users\\adity\\Desktop\\Deep Forest\\keras-unet\\env\\lib\\site-packages\\tensorflow\\python\\util\\traceback_utils.py\", line 150, in error_handler\n\n  File \"c:\\Users\\adity\\Desktop\\Deep Forest\\keras-unet\\env\\lib\\site-packages\\tensorflow\\python\\util\\dispatch.py\", line 1260, in op_dispatch_handler\n\n  File \"c:\\Users\\adity\\Desktop\\Deep Forest\\keras-unet\\env\\lib\\site-packages\\tensorflow\\python\\ops\\math_ops.py\", line 524, in multiply\n\n  File \"c:\\Users\\adity\\Desktop\\Deep Forest\\keras-unet\\env\\lib\\site-packages\\tensorflow\\python\\ops\\gen_math_ops.py\", line 6837, in mul\n\n  File \"c:\\Users\\adity\\Desktop\\Deep Forest\\keras-unet\\env\\lib\\site-packages\\tensorflow\\python\\framework\\op_def_library.py\", line 796, in _apply_op_helper\n\n  File \"c:\\Users\\adity\\Desktop\\Deep Forest\\keras-unet\\env\\lib\\site-packages\\tensorflow\\python\\framework\\func_graph.py\", line 670, in _create_op_internal\n\n  File \"c:\\Users\\adity\\Desktop\\Deep Forest\\keras-unet\\env\\lib\\site-packages\\tensorflow\\python\\framework\\ops.py\", line 2682, in _create_op_internal\n\n  File \"c:\\Users\\adity\\Desktop\\Deep Forest\\keras-unet\\env\\lib\\site-packages\\tensorflow\\python\\framework\\ops.py\", line 1177, in from_node_def\n\n  File \"c:\\Users\\adity\\Desktop\\Deep Forest\\keras-unet\\env\\lib\\site-packages\\tensorflow\\python\\util\\traceback_utils.py\", line 150, in error_handler\n\n  File \"c:\\Users\\adity\\Desktop\\Deep Forest\\keras-unet\\env\\lib\\site-packages\\tensorflow\\python\\framework\\ops.py\", line 1043, in _create_c_op\n\n  File \"c:\\Users\\adity\\Desktop\\Deep Forest\\keras-unet\\env\\lib\\site-packages\\tensorflow\\python\\util\\tf_stack.py\", line 162, in extract_stack\n\nIncompatible shapes: [2097152] vs. [16777216]\n\t [[{{node mul}}]] [Op:__inference_one_step_on_iterator_13556]",
     "output_type": "error",
     "traceback": [
      "\u001b[1;31m---------------------------------------------------------------------------\u001b[0m",
      "\u001b[1;31mInvalidArgumentError\u001b[0m                      Traceback (most recent call last)",
      "Cell \u001b[1;32mIn[18], line 1\u001b[0m\n\u001b[1;32m----> 1\u001b[0m history \u001b[38;5;241m=\u001b[39m \u001b[43mmodel\u001b[49m\u001b[38;5;241;43m.\u001b[39;49m\u001b[43mfit\u001b[49m\u001b[43m(\u001b[49m\n\u001b[0;32m      2\u001b[0m \u001b[43m    \u001b[49m\u001b[43mx_train\u001b[49m\u001b[43m,\u001b[49m\n\u001b[0;32m      3\u001b[0m \u001b[43m    \u001b[49m\u001b[43my_train\u001b[49m\u001b[43m,\u001b[49m\n\u001b[0;32m      4\u001b[0m \u001b[43m    \u001b[49m\u001b[43msteps_per_epoch\u001b[49m\u001b[38;5;241;43m=\u001b[39;49m\u001b[38;5;241;43m10\u001b[39;49m\u001b[43m,\u001b[49m\n\u001b[0;32m      5\u001b[0m \u001b[43m    \u001b[49m\u001b[43mepochs\u001b[49m\u001b[38;5;241;43m=\u001b[39;49m\u001b[38;5;241;43m5\u001b[39;49m\u001b[43m,\u001b[49m\n\u001b[0;32m      6\u001b[0m \u001b[43m    \u001b[49m\u001b[43mbatch_size\u001b[49m\u001b[38;5;241;43m=\u001b[39;49m\u001b[38;5;241;43m8\u001b[39;49m\u001b[43m,\u001b[49m\n\u001b[0;32m      7\u001b[0m \u001b[43m    \u001b[49m\u001b[43mvalidation_data\u001b[49m\u001b[38;5;241;43m=\u001b[39;49m\u001b[43m(\u001b[49m\u001b[43mx_val\u001b[49m\u001b[43m,\u001b[49m\u001b[43m \u001b[49m\u001b[43my_val\u001b[49m\u001b[43m)\u001b[49m\u001b[43m,\u001b[49m\n\u001b[0;32m      8\u001b[0m \u001b[43m    \u001b[49m\u001b[43mcallbacks\u001b[49m\u001b[38;5;241;43m=\u001b[39;49m\u001b[43m[\u001b[49m\u001b[43mcallback_checkpoint\u001b[49m\u001b[43m]\u001b[49m\n\u001b[0;32m      9\u001b[0m \u001b[43m)\u001b[49m\n",
      "File \u001b[1;32mc:\\Users\\adity\\Desktop\\Deep Forest\\keras-unet\\env\\lib\\site-packages\\keras\\src\\utils\\traceback_utils.py:122\u001b[0m, in \u001b[0;36mfilter_traceback.<locals>.error_handler\u001b[1;34m(*args, **kwargs)\u001b[0m\n\u001b[0;32m    119\u001b[0m     filtered_tb \u001b[38;5;241m=\u001b[39m _process_traceback_frames(e\u001b[38;5;241m.\u001b[39m__traceback__)\n\u001b[0;32m    120\u001b[0m     \u001b[38;5;66;03m# To get the full stack trace, call:\u001b[39;00m\n\u001b[0;32m    121\u001b[0m     \u001b[38;5;66;03m# `keras.config.disable_traceback_filtering()`\u001b[39;00m\n\u001b[1;32m--> 122\u001b[0m     \u001b[38;5;28;01mraise\u001b[39;00m e\u001b[38;5;241m.\u001b[39mwith_traceback(filtered_tb) \u001b[38;5;28;01mfrom\u001b[39;00m \u001b[38;5;28;01mNone\u001b[39;00m\n\u001b[0;32m    123\u001b[0m \u001b[38;5;28;01mfinally\u001b[39;00m:\n\u001b[0;32m    124\u001b[0m     \u001b[38;5;28;01mdel\u001b[39;00m filtered_tb\n",
      "File \u001b[1;32mc:\\Users\\adity\\Desktop\\Deep Forest\\keras-unet\\env\\lib\\site-packages\\tensorflow\\python\\eager\\execute.py:53\u001b[0m, in \u001b[0;36mquick_execute\u001b[1;34m(op_name, num_outputs, inputs, attrs, ctx, name)\u001b[0m\n\u001b[0;32m     51\u001b[0m \u001b[38;5;28;01mtry\u001b[39;00m:\n\u001b[0;32m     52\u001b[0m   ctx\u001b[38;5;241m.\u001b[39mensure_initialized()\n\u001b[1;32m---> 53\u001b[0m   tensors \u001b[38;5;241m=\u001b[39m pywrap_tfe\u001b[38;5;241m.\u001b[39mTFE_Py_Execute(ctx\u001b[38;5;241m.\u001b[39m_handle, device_name, op_name,\n\u001b[0;32m     54\u001b[0m                                       inputs, attrs, num_outputs)\n\u001b[0;32m     55\u001b[0m \u001b[38;5;28;01mexcept\u001b[39;00m core\u001b[38;5;241m.\u001b[39m_NotOkStatusException \u001b[38;5;28;01mas\u001b[39;00m e:\n\u001b[0;32m     56\u001b[0m   \u001b[38;5;28;01mif\u001b[39;00m name \u001b[38;5;129;01mis\u001b[39;00m \u001b[38;5;129;01mnot\u001b[39;00m \u001b[38;5;28;01mNone\u001b[39;00m:\n",
      "\u001b[1;31mInvalidArgumentError\u001b[0m: Graph execution error:\n\nDetected at node mul defined at (most recent call last):\n  File \"C:\\Users\\Aditya\\miniconda3\\lib\\runpy.py\", line 196, in _run_module_as_main\n\n  File \"C:\\Users\\Aditya\\miniconda3\\lib\\runpy.py\", line 86, in _run_code\n\n  File \"c:\\Users\\adity\\Desktop\\Deep Forest\\keras-unet\\env\\lib\\site-packages\\ipykernel_launcher.py\", line 18, in <module>\n\n  File \"c:\\Users\\adity\\Desktop\\Deep Forest\\keras-unet\\env\\lib\\site-packages\\traitlets\\config\\application.py\", line 1075, in launch_instance\n\n  File \"c:\\Users\\adity\\Desktop\\Deep Forest\\keras-unet\\env\\lib\\site-packages\\ipykernel\\kernelapp.py\", line 739, in start\n\n  File \"c:\\Users\\adity\\Desktop\\Deep Forest\\keras-unet\\env\\lib\\site-packages\\tornado\\platform\\asyncio.py\", line 205, in start\n\n  File \"C:\\Users\\Aditya\\miniconda3\\lib\\asyncio\\base_events.py\", line 603, in run_forever\n\n  File \"C:\\Users\\Aditya\\miniconda3\\lib\\asyncio\\base_events.py\", line 1909, in _run_once\n\n  File \"C:\\Users\\Aditya\\miniconda3\\lib\\asyncio\\events.py\", line 80, in _run\n\n  File \"c:\\Users\\adity\\Desktop\\Deep Forest\\keras-unet\\env\\lib\\site-packages\\ipykernel\\kernelbase.py\", line 545, in dispatch_queue\n\n  File \"c:\\Users\\adity\\Desktop\\Deep Forest\\keras-unet\\env\\lib\\site-packages\\ipykernel\\kernelbase.py\", line 534, in process_one\n\n  File \"c:\\Users\\adity\\Desktop\\Deep Forest\\keras-unet\\env\\lib\\site-packages\\ipykernel\\kernelbase.py\", line 437, in dispatch_shell\n\n  File \"c:\\Users\\adity\\Desktop\\Deep Forest\\keras-unet\\env\\lib\\site-packages\\ipykernel\\ipkernel.py\", line 359, in execute_request\n\n  File \"c:\\Users\\adity\\Desktop\\Deep Forest\\keras-unet\\env\\lib\\site-packages\\ipykernel\\kernelbase.py\", line 778, in execute_request\n\n  File \"c:\\Users\\adity\\Desktop\\Deep Forest\\keras-unet\\env\\lib\\site-packages\\ipykernel\\ipkernel.py\", line 446, in do_execute\n\n  File \"c:\\Users\\adity\\Desktop\\Deep Forest\\keras-unet\\env\\lib\\site-packages\\ipykernel\\zmqshell.py\", line 549, in run_cell\n\n  File \"c:\\Users\\adity\\Desktop\\Deep Forest\\keras-unet\\env\\lib\\site-packages\\IPython\\core\\interactiveshell.py\", line 3075, in run_cell\n\n  File \"c:\\Users\\adity\\Desktop\\Deep Forest\\keras-unet\\env\\lib\\site-packages\\IPython\\core\\interactiveshell.py\", line 3130, in _run_cell\n\n  File \"c:\\Users\\adity\\Desktop\\Deep Forest\\keras-unet\\env\\lib\\site-packages\\IPython\\core\\async_helpers.py\", line 129, in _pseudo_sync_runner\n\n  File \"c:\\Users\\adity\\Desktop\\Deep Forest\\keras-unet\\env\\lib\\site-packages\\IPython\\core\\interactiveshell.py\", line 3334, in run_cell_async\n\n  File \"c:\\Users\\adity\\Desktop\\Deep Forest\\keras-unet\\env\\lib\\site-packages\\IPython\\core\\interactiveshell.py\", line 3517, in run_ast_nodes\n\n  File \"c:\\Users\\adity\\Desktop\\Deep Forest\\keras-unet\\env\\lib\\site-packages\\IPython\\core\\interactiveshell.py\", line 3577, in run_code\n\n  File \"C:\\Users\\Aditya\\AppData\\Local\\Temp\\ipykernel_27532\\2851065090.py\", line 1, in <module>\n\n  File \"c:\\Users\\adity\\Desktop\\Deep Forest\\keras-unet\\env\\lib\\site-packages\\keras\\src\\utils\\traceback_utils.py\", line 117, in error_handler\n\n  File \"c:\\Users\\adity\\Desktop\\Deep Forest\\keras-unet\\env\\lib\\site-packages\\keras\\src\\backend\\tensorflow\\trainer.py\", line 325, in fit\n\n  File \"c:\\Users\\adity\\Desktop\\Deep Forest\\keras-unet\\env\\lib\\site-packages\\tensorflow\\python\\util\\traceback_utils.py\", line 150, in error_handler\n\n  File \"c:\\Users\\adity\\Desktop\\Deep Forest\\keras-unet\\env\\lib\\site-packages\\tensorflow\\python\\eager\\polymorphic_function\\polymorphic_function.py\", line 833, in __call__\n\n  File \"c:\\Users\\adity\\Desktop\\Deep Forest\\keras-unet\\env\\lib\\site-packages\\tensorflow\\python\\eager\\polymorphic_function\\polymorphic_function.py\", line 889, in _call\n\n  File \"c:\\Users\\adity\\Desktop\\Deep Forest\\keras-unet\\env\\lib\\site-packages\\tensorflow\\python\\eager\\polymorphic_function\\polymorphic_function.py\", line 696, in _initialize\n\n  File \"c:\\Users\\adity\\Desktop\\Deep Forest\\keras-unet\\env\\lib\\site-packages\\tensorflow\\python\\eager\\polymorphic_function\\tracing_compilation.py\", line 178, in trace_function\n\n  File \"c:\\Users\\adity\\Desktop\\Deep Forest\\keras-unet\\env\\lib\\site-packages\\tensorflow\\python\\eager\\polymorphic_function\\tracing_compilation.py\", line 283, in _maybe_define_function\n\n  File \"c:\\Users\\adity\\Desktop\\Deep Forest\\keras-unet\\env\\lib\\site-packages\\tensorflow\\python\\eager\\polymorphic_function\\tracing_compilation.py\", line 310, in _create_concrete_function\n\n  File \"c:\\Users\\adity\\Desktop\\Deep Forest\\keras-unet\\env\\lib\\site-packages\\tensorflow\\python\\framework\\func_graph.py\", line 1059, in func_graph_from_py_func\n\n  File \"c:\\Users\\adity\\Desktop\\Deep Forest\\keras-unet\\env\\lib\\site-packages\\tensorflow\\python\\eager\\polymorphic_function\\polymorphic_function.py\", line 599, in wrapped_fn\n\n  File \"c:\\Users\\adity\\Desktop\\Deep Forest\\keras-unet\\env\\lib\\site-packages\\tensorflow\\python\\eager\\polymorphic_function\\autograph_util.py\", line 41, in autograph_handler\n\n  File \"c:\\Users\\adity\\Desktop\\Deep Forest\\keras-unet\\env\\lib\\site-packages\\tensorflow\\python\\autograph\\impl\\api.py\", line 339, in converted_call\n\n  File \"c:\\Users\\adity\\Desktop\\Deep Forest\\keras-unet\\env\\lib\\site-packages\\tensorflow\\python\\autograph\\impl\\api.py\", line 459, in _call_unconverted\n\n  File \"c:\\Users\\adity\\Desktop\\Deep Forest\\keras-unet\\env\\lib\\site-packages\\tensorflow\\python\\autograph\\impl\\api.py\", line 643, in wrapper\n\n  File \"c:\\Users\\adity\\Desktop\\Deep Forest\\keras-unet\\env\\lib\\site-packages\\keras\\src\\backend\\tensorflow\\trainer.py\", line 118, in one_step_on_iterator\n\n  File \"c:\\Users\\adity\\Desktop\\Deep Forest\\keras-unet\\env\\lib\\site-packages\\tensorflow\\python\\distribute\\distribute_lib.py\", line 1673, in run\n\n  File \"c:\\Users\\adity\\Desktop\\Deep Forest\\keras-unet\\env\\lib\\site-packages\\tensorflow\\python\\distribute\\distribute_lib.py\", line 3263, in call_for_each_replica\n\n  File \"c:\\Users\\adity\\Desktop\\Deep Forest\\keras-unet\\env\\lib\\site-packages\\tensorflow\\python\\distribute\\distribute_lib.py\", line 4061, in _call_for_each_replica\n\n  File \"c:\\Users\\adity\\Desktop\\Deep Forest\\keras-unet\\env\\lib\\site-packages\\tensorflow\\python\\util\\traceback_utils.py\", line 150, in error_handler\n\n  File \"c:\\Users\\adity\\Desktop\\Deep Forest\\keras-unet\\env\\lib\\site-packages\\tensorflow\\python\\eager\\polymorphic_function\\polymorphic_function.py\", line 833, in __call__\n\n  File \"c:\\Users\\adity\\Desktop\\Deep Forest\\keras-unet\\env\\lib\\site-packages\\tensorflow\\python\\eager\\polymorphic_function\\polymorphic_function.py\", line 906, in _call\n\n  File \"c:\\Users\\adity\\Desktop\\Deep Forest\\keras-unet\\env\\lib\\site-packages\\tensorflow\\python\\eager\\polymorphic_function\\tracing_compilation.py\", line 132, in call_function\n\n  File \"c:\\Users\\adity\\Desktop\\Deep Forest\\keras-unet\\env\\lib\\site-packages\\tensorflow\\python\\eager\\polymorphic_function\\tracing_compilation.py\", line 178, in trace_function\n\n  File \"c:\\Users\\adity\\Desktop\\Deep Forest\\keras-unet\\env\\lib\\site-packages\\tensorflow\\python\\eager\\polymorphic_function\\tracing_compilation.py\", line 283, in _maybe_define_function\n\n  File \"c:\\Users\\adity\\Desktop\\Deep Forest\\keras-unet\\env\\lib\\site-packages\\tensorflow\\python\\eager\\polymorphic_function\\tracing_compilation.py\", line 310, in _create_concrete_function\n\n  File \"c:\\Users\\adity\\Desktop\\Deep Forest\\keras-unet\\env\\lib\\site-packages\\tensorflow\\python\\framework\\func_graph.py\", line 1059, in func_graph_from_py_func\n\n  File \"c:\\Users\\adity\\Desktop\\Deep Forest\\keras-unet\\env\\lib\\site-packages\\tensorflow\\python\\eager\\polymorphic_function\\polymorphic_function.py\", line 599, in wrapped_fn\n\n  File \"c:\\Users\\adity\\Desktop\\Deep Forest\\keras-unet\\env\\lib\\site-packages\\tensorflow\\python\\eager\\polymorphic_function\\autograph_util.py\", line 41, in autograph_handler\n\n  File \"c:\\Users\\adity\\Desktop\\Deep Forest\\keras-unet\\env\\lib\\site-packages\\tensorflow\\python\\autograph\\impl\\api.py\", line 331, in converted_call\n\n  File \"c:\\Users\\adity\\Desktop\\Deep Forest\\keras-unet\\env\\lib\\site-packages\\tensorflow\\python\\autograph\\impl\\api.py\", line 459, in _call_unconverted\n\n  File \"c:\\Users\\adity\\Desktop\\Deep Forest\\keras-unet\\env\\lib\\site-packages\\tensorflow\\python\\autograph\\impl\\api.py\", line 643, in wrapper\n\n  File \"c:\\Users\\adity\\Desktop\\Deep Forest\\keras-unet\\env\\lib\\site-packages\\keras\\src\\backend\\tensorflow\\trainer.py\", line 106, in one_step_on_data\n\n  File \"c:\\Users\\adity\\Desktop\\Deep Forest\\keras-unet\\env\\lib\\site-packages\\keras\\src\\backend\\tensorflow\\trainer.py\", line 77, in train_step\n\n  File \"c:\\Users\\adity\\Desktop\\Deep Forest\\keras-unet\\env\\lib\\site-packages\\keras\\src\\trainers\\trainer.py\", line 376, in compute_metrics\n\n  File \"c:\\Users\\adity\\Desktop\\Deep Forest\\keras-unet\\env\\lib\\site-packages\\keras\\src\\trainers\\compile_utils.py\", line 330, in update_state\n\n  File \"c:\\Users\\adity\\Desktop\\Deep Forest\\keras-unet\\env\\lib\\site-packages\\keras\\src\\trainers\\compile_utils.py\", line 17, in update_state\n\n  File \"c:\\Users\\adity\\Desktop\\Deep Forest\\keras-unet\\env\\lib\\site-packages\\keras\\src\\metrics\\reduction_metrics.py\", line 199, in update_state\n\n  File \"c:\\Users\\adity\\Desktop\\Deep Forest\\keras-unet\\env\\lib\\site-packages\\keras_unet\\metrics.py\", line 13, in iou\n\n  File \"c:\\Users\\adity\\Desktop\\Deep Forest\\keras-unet\\env\\lib\\site-packages\\tensorflow\\python\\util\\traceback_utils.py\", line 150, in error_handler\n\n  File \"c:\\Users\\adity\\Desktop\\Deep Forest\\keras-unet\\env\\lib\\site-packages\\tensorflow\\python\\framework\\override_binary_operator.py\", line 113, in binary_op_wrapper\n\n  File \"c:\\Users\\adity\\Desktop\\Deep Forest\\keras-unet\\env\\lib\\site-packages\\tensorflow\\python\\ops\\tensor_math_operator_overrides.py\", line 64, in _mul_dispatch_factory\n\n  File \"c:\\Users\\adity\\Desktop\\Deep Forest\\keras-unet\\env\\lib\\site-packages\\tensorflow\\python\\ops\\math_ops.py\", line 1705, in _mul_dispatch\n\n  File \"c:\\Users\\adity\\Desktop\\Deep Forest\\keras-unet\\env\\lib\\site-packages\\tensorflow\\python\\ops\\weak_tensor_ops.py\", line 142, in wrapper\n\n  File \"c:\\Users\\adity\\Desktop\\Deep Forest\\keras-unet\\env\\lib\\site-packages\\tensorflow\\python\\util\\traceback_utils.py\", line 150, in error_handler\n\n  File \"c:\\Users\\adity\\Desktop\\Deep Forest\\keras-unet\\env\\lib\\site-packages\\tensorflow\\python\\util\\dispatch.py\", line 1260, in op_dispatch_handler\n\n  File \"c:\\Users\\adity\\Desktop\\Deep Forest\\keras-unet\\env\\lib\\site-packages\\tensorflow\\python\\ops\\math_ops.py\", line 524, in multiply\n\n  File \"c:\\Users\\adity\\Desktop\\Deep Forest\\keras-unet\\env\\lib\\site-packages\\tensorflow\\python\\ops\\gen_math_ops.py\", line 6837, in mul\n\n  File \"c:\\Users\\adity\\Desktop\\Deep Forest\\keras-unet\\env\\lib\\site-packages\\tensorflow\\python\\framework\\op_def_library.py\", line 796, in _apply_op_helper\n\n  File \"c:\\Users\\adity\\Desktop\\Deep Forest\\keras-unet\\env\\lib\\site-packages\\tensorflow\\python\\framework\\func_graph.py\", line 670, in _create_op_internal\n\n  File \"c:\\Users\\adity\\Desktop\\Deep Forest\\keras-unet\\env\\lib\\site-packages\\tensorflow\\python\\framework\\ops.py\", line 2682, in _create_op_internal\n\n  File \"c:\\Users\\adity\\Desktop\\Deep Forest\\keras-unet\\env\\lib\\site-packages\\tensorflow\\python\\framework\\ops.py\", line 1177, in from_node_def\n\n  File \"c:\\Users\\adity\\Desktop\\Deep Forest\\keras-unet\\env\\lib\\site-packages\\tensorflow\\python\\util\\traceback_utils.py\", line 150, in error_handler\n\n  File \"c:\\Users\\adity\\Desktop\\Deep Forest\\keras-unet\\env\\lib\\site-packages\\tensorflow\\python\\framework\\ops.py\", line 1043, in _create_c_op\n\n  File \"c:\\Users\\adity\\Desktop\\Deep Forest\\keras-unet\\env\\lib\\site-packages\\tensorflow\\python\\util\\tf_stack.py\", line 162, in extract_stack\n\nIncompatible shapes: [2097152] vs. [16777216]\n\t [[{{node mul}}]] [Op:__inference_one_step_on_iterator_13556]"
     ]
    }
   ],
   "source": [
    "history = model.fit(\n",
    "    x_train,\n",
    "    y_train,\n",
    "    steps_per_epoch=10,\n",
    "    epochs=5,\n",
    "    batch_size=8,\n",
    "    validation_data=(x_val, y_val),\n",
    "    callbacks=[callback_checkpoint]\n",
    ")"
   ]
  },
  {
   "cell_type": "code",
   "execution_count": null,
   "metadata": {},
   "outputs": [],
   "source": [
    "from keras_unet.utils import plot_segm_history\n",
    "\n",
    "plot_segm_history(history)"
   ]
  }
 ],
 "metadata": {
  "kernelspec": {
   "display_name": "env",
   "language": "python",
   "name": "python3"
  },
  "language_info": {
   "codemirror_mode": {
    "name": "ipython",
    "version": 3
   },
   "file_extension": ".py",
   "mimetype": "text/x-python",
   "name": "python",
   "nbconvert_exporter": "python",
   "pygments_lexer": "ipython3",
   "version": "3.10.10"
  }
 },
 "nbformat": 4,
 "nbformat_minor": 2
}
